{
 "cells": [
  {
   "cell_type": "code",
   "execution_count": 1,
   "metadata": {
    "collapsed": false
   },
   "outputs": [
    {
     "name": "stdout",
     "output_type": "stream",
     "text": [
      "Populating the interactive namespace from numpy and matplotlib\n"
     ]
    },
    {
     "name": "stderr",
     "output_type": "stream",
     "text": [
      "WARNING: pylab import has clobbered these variables: ['pylab']\n",
      "`%matplotlib` prevents importing * from pylab and numpy\n"
     ]
    }
   ],
   "source": [
    "import nengo\n",
    "import numpy as np\n",
    "import scipy.special as sp\n",
    "import matplotlib.pyplot as plt\n",
    "import scipy.stats as st\n",
    "from nengo.spa import Vocabulary\n",
    "from nengo.dists import UniformHypersphere\n",
    "import pylab\n",
    "from nengo.dists import Choice\n",
    "% pylab inline\n",
    "\n",
    "import nengo.utils.function_space\n",
    "nengo.dists.Function = nengo.utils.function_space.Function\n",
    "nengo.FunctionSpace = nengo.utils.function_space.FunctionSpace"
   ]
  },
  {
   "cell_type": "code",
   "execution_count": 17,
   "metadata": {
    "collapsed": false
   },
   "outputs": [
    {
     "data": {
      "image/png": "[encoded data removed]",
      "text/plain": [
       "<matplotlib.figure.Figure at 0x7fa49067cd50>"
      ]
     },
     "metadata": {},
     "output_type": "display_data"
    },
    {
     "name": "stderr",
     "output_type": "stream",
     "text": [
      "/usr/local/lib/python2.7/dist-packages/ipykernel/__main__.py:38: VisibleDeprecationWarning: using a non-integer number instead of an integer will result in an error in the future\n"
     ]
    },
    {
     "name": "stdout",
     "output_type": "stream",
     "text": [
      "alpha_hat:  1\n",
      "(1, 120)\n",
      "(120, 120)\n",
      "[[  1.42198737e+37   1.33430032e+37   1.24967478e+37 ...,   4.11293316e+32\n",
      "    3.58188941e+32   3.12124982e+32]\n",
      " [  1.25965028e+37   1.19895398e+37   1.13829352e+37 ...,   4.77184669e+32\n",
      "    4.16103099e+32   3.63054024e+32]\n",
      " [  1.09937000e+37   1.06207885e+37   1.02282937e+37 ...,   5.52926451e+32\n",
      "    4.82765005e+32   4.21754798e+32]\n",
      " ..., \n",
      " [  2.37065278e-29   2.52097345e-28   2.65446488e-27 ...,   1.27236641e+36\n",
      "    1.43255917e+36   1.59409571e+36]\n",
      " [  1.83945161e-30   1.99882478e-29   2.15064607e-28 ...,   1.12711036e+36\n",
      "    1.28724583e+36   1.45201683e+36]\n",
      " [  1.39676144e-31   1.55094053e-30   1.70520029e-29 ...,   9.83694707e+35\n",
      "    1.14029111e+36   1.30472978e+36]]\n"
     ]
    },
    {
     "name": "stderr",
     "output_type": "stream",
     "text": [
      "/usr/local/lib/python2.7/dist-packages/ipykernel/__main__.py:39: RuntimeWarning: invalid value encountered in power\n",
      "/usr/local/lib/python2.7/dist-packages/ipykernel/__main__.py:74: RuntimeWarning: invalid value encountered in power\n"
     ]
    }
   ],
   "source": [
    "\n",
    "max_age = dim = 120\n",
    "\n",
    "# likelihood parameters\n",
    "# observed age data\n",
    "x = 20\n",
    "# x_vector = [35, 5, 20, 55, 65, 72]\n",
    "\n",
    "# prior parameters\n",
    "skew = -4\n",
    "loc = 97\n",
    "scale = 28\n",
    "\n",
    "# our domain is thetas (i.e., age from 1 to 120)\n",
    "thetas = np.linspace(start=1, stop=max_age, num=max_age)\n",
    "alphas = np.linspace(start=1, stop=max_age, num=max_age)\n",
    "\n",
    "def likelihood_comb(x):\n",
    "    like = np.ones(max_age)\n",
    "    x_vector = [x+15, x-15, x, x+35, x+45, x+52]\n",
    "    for i in x_vector:\n",
    "        like = np.multiply(like, likelihood(i))    \n",
    "    like = like * np.power(10,12)\n",
    "    return like / np.sum(like)\n",
    "        \n",
    "\n",
    "def likelihood(x):\n",
    "    like = np.asarray([1/p for p in thetas])\n",
    "    like[0:x-1] = [0]*np.asarray(x-1)\n",
    "    return like\n",
    "\n",
    "\n",
    "def p_matrix():\n",
    "    p_matrix = np.zeros((len(thetas), len(alphas)))   # p(theta/alpha)\n",
    "    for x in alphas:\n",
    "        p_theta = [(st.skewnorm.pdf(p, a=skew, loc=x, scale=scale)) for p in thetas]\n",
    "        p_theta = p_theta/np.sum(p_theta)    # normalize prior (to sum up to 1)\n",
    "        p_matrix[:, x-1] = p_theta\n",
    "    return p_matrix   \n",
    "    \n",
    "\n",
    "    \n",
    "\n",
    "pylab.plot(thetas, likelihood_comb(x=x))\n",
    "pylab.show()\n",
    "\n",
    "# ----------------------------------------------------------------------------------------\n",
    "# Solving for prior using empirical bayes approach computationally\n",
    "\n",
    "comb_likelihood = likelihood_comb(x)\n",
    "\n",
    "# declare a matrix which will store p_theta along columns for each given alpha\n",
    "# theta varies along rows, and alpha varies along columns\n",
    "p_mat = p_matrix()\n",
    "    \n",
    "# Now compute p(X/alpha) by marginalizing out theta for each alpha\n",
    "#comb_likelihood = comb_likelihood/sum(comb_likelihood)  # already normalized in likelihood_comb function\n",
    "#p_matrix = p_matrix/sum(p_matrix)\n",
    "marginpost_set = np.dot(comb_likelihood, p_mat)   # this will be a list of dimentions (1 x max_age)  \n",
    "#pick the max value and find the corresponding alpha\n",
    "#print marginpost_set\n",
    "alpha_hat = np.argmax(marginpost_set) + 1\n",
    "\n",
    "\n",
    "holder = np.zeros((1,len(comb_likelihood)))    # change shape of likelihood from (120,) to (1,120)\n",
    "holder[0,:] = comb_likelihood\n",
    "comb_likelihood = holder\n",
    "\n",
    "print \"alpha_hat: \", alpha_hat\n",
    "\n",
    "print comb_likelihood.shape\n",
    "print p_mat.shape\n",
    "\n",
    "print p_mat*np.power(10,50)\n"
   ]
  },
  {
   "cell_type": "code",
   "execution_count": 18,
   "metadata": {
    "collapsed": false,
    "scrolled": true
   },
   "outputs": [
    {
     "name": "stdout",
     "output_type": "stream",
     "text": [
      "(200, 120)\n"
     ]
    },
    {
     "name": "stderr",
     "output_type": "stream",
     "text": [
      "/usr/local/lib/python2.7/dist-packages/ipykernel/__main__.py:29: VisibleDeprecationWarning: using a non-integer number instead of an integer will result in an error in the future\n"
     ]
    },
    {
     "data": {
      "text/plain": [
       "\"\\npylab.plot(alphas, data.T)\\npylab.show()\\n\\nfrom mpl_toolkits.mplot3d import Axes3D\\nfig = pylab.figure()\\nax = fig.add_subplot(111, projection='3d')\\nax.scatter(thetas[:,0], alphas[:,1], data.T)\\npylab.show()\\n\""
      ]
     },
     "execution_count": 18,
     "metadata": {},
     "output_type": "execute_result"
    }
   ],
   "source": [
    "lik_space = nengo.dists.Function(likelihood_comb,\n",
    "                             x=nengo.dists.Uniform(x,x))\n",
    "data = lik_space.sample(200)\n",
    "print data.shape\n",
    "#pylab.plot(thetas, data.T)\n",
    "#pylab.show()\n",
    "\n",
    "def p_matrix2():\n",
    "    p_matrix = np.zeros((len(thetas), len(alphas)))   # p(theta/alpha)\n",
    "    for x in alphas:\n",
    "        p_theta = [(st.skewnorm.pdf(p, a=skew, loc=x, scale=scale)) for p in thetas]\n",
    "        p_theta = p_theta/np.sum(p_theta)    # normalize prior (to sum up to 1)\n",
    "        p_matrix[:, x-1] = p_theta\n",
    "    return p_matrix.ravel() \n",
    "\n",
    "pmatrix_space = nengo.dists.Function(p_matrix2)\n",
    "\n",
    "#data = pmatrix_space.sample(50)\n",
    "#pylab.plot(thetas, data.T)\n",
    "#pylab.show()\n",
    "\n",
    "'''\n",
    "pylab.plot(alphas, data.T)\n",
    "pylab.show()\n",
    "\n",
    "from mpl_toolkits.mplot3d import Axes3D\n",
    "fig = pylab.figure()\n",
    "ax = fig.add_subplot(111, projection='3d')\n",
    "ax.scatter(thetas[:,0], alphas[:,1], data.T)\n",
    "pylab.show()\n",
    "'''\n"
   ]
  },
  {
   "cell_type": "code",
   "execution_count": 19,
   "metadata": {
    "collapsed": false
   },
   "outputs": [
    {
     "name": "stderr",
     "output_type": "stream",
     "text": [
      "/usr/local/lib/python2.7/dist-packages/ipykernel/__main__.py:29: VisibleDeprecationWarning: using a non-integer number instead of an integer will result in an error in the future\n"
     ]
    },
    {
     "name": "stdout",
     "output_type": "stream",
     "text": [
      "[[ 0.          0.          0.         ...,  3.73679084  3.55229534\n",
      "   3.37834002]\n",
      " [ 0.          0.          0.         ...,  3.73679084  3.55229534\n",
      "   3.37834002]\n",
      " [ 0.          0.          0.         ...,  3.73679084  3.55229534\n",
      "   3.37834002]\n",
      " ..., \n",
      " [ 0.          0.          0.         ...,  3.73679084  3.55229534\n",
      "   3.37834002]\n",
      " [ 0.          0.          0.         ...,  3.73679084  3.55229534\n",
      "   3.37834002]\n",
      " [ 0.          0.          0.         ...,  3.73679084  3.55229534\n",
      "   3.37834002]]\n"
     ]
    },
    {
     "name": "stderr",
     "output_type": "stream",
     "text": [
      "/usr/local/lib/python2.7/dist-packages/ipykernel/__main__.py:38: VisibleDeprecationWarning: using a non-integer number instead of an integer will result in an error in the future\n",
      "/usr/local/lib/python2.7/dist-packages/ipykernel/__main__.py:39: RuntimeWarning: invalid value encountered in power\n"
     ]
    }
   ],
   "source": [
    "# Now represent the likelihood i.e., P(X/theta) and P(theta/alpha) in neurons\n",
    "# And then compute P(X/alpha) by marginalizing out theta for each alpha\n",
    "\n",
    "num_neurons = 50\n",
    "\n",
    "# Values should stay within the range (-radius,radius)\n",
    "radius = 1\n",
    "\n",
    "rng = np.random.RandomState(12) \n",
    "num_samples = 4000\n",
    "\n",
    "model = nengo.Network(seed=12)\n",
    "with model:  \n",
    "    \n",
    "    # define eval points to only represent positive values\n",
    "    encoders = lik_space.sample(num_neurons, 1, rng=rng)\n",
    "    #print encoders\n",
    "    eval_points = lik_space.sample(num_samples, 1, rng=rng)*1000\n",
    "    print eval_points\n",
    "    \n",
    "    \n",
    "    # Make 2 EnsembleArrays to store the input\n",
    "    lik = nengo.networks.EnsembleArray(n_neurons=num_neurons, n_ensembles=comb_likelihood.size, \n",
    "                                radius=radius, encoders=encoders[:,10],\n",
    "                                 eval_points=eval_points[:,10], n_eval_points=eval_points.shape[0],\n",
    "                                      max_rates = nengo.dists.Uniform(100,200))\n",
    "    prior = nengo.networks.EnsembleArray(n_neurons=num_neurons, n_ensembles=p_mat.size, \n",
    "                                radius=radius, encoders=encoders[:,10],\n",
    "                                 eval_points=eval_points[:,10], n_eval_points=eval_points.shape[0],\n",
    "                                        max_rates = nengo.dists.Uniform(100,200))\n",
    "    \n",
    "    # connect inputs to them so we can set their value\n",
    "    likelihood_in = nengo.Node(output=likelihood_comb(x=x).ravel())    # p(X/theta): matrix of dimension (1, 120)\n",
    "    prior_in = nengo.Node(output=p_matrix().ravel())   # p(theta/alpha): matrix of dimension (120, 120)\n",
    "    nengo.Connection(likelihood_in, lik.input)\n",
    "    nengo.Connection(prior_in, prior.input)\n",
    "    \n",
    "   \n",
    "    \n",
    "    # The C matix is composed of populations that each contain\n",
    "    # one element of 'lik' and one element of 'prior'.\n",
    "    # These elements will be multiplied together in the next step.\n",
    "    \n",
    "    # The appropriate encoders make the multiplication more accurate\n",
    "    #eval_points = rng.uniform(0, 1, size=(50, 2))\n",
    "    C = nengo.networks.EnsembleArray(n_neurons=num_neurons,\n",
    "                                     n_ensembles=comb_likelihood.size * p_mat.shape[1],\n",
    "                                     ens_dimensions=2,\n",
    "                                     radius=1.5 * radius,\n",
    "                                     encoders=Choice([[1, 1], [-1, 1], [1, -1], [-1, -1]]))\n",
    "                                     \n",
    "    # Now compute the products and do the appropriate summing\n",
    "    #eval_points = rng.uniform(0, 1, size=(50, 1))\n",
    "    D = nengo.networks.EnsembleArray(n_neurons=num_neurons,\n",
    "                                     n_ensembles=comb_likelihood.shape[0] * p_mat.shape[1],\n",
    "                                     radius=radius)\n",
    "\n",
    "                                     "
   ]
  },
  {
   "cell_type": "code",
   "execution_count": 20,
   "metadata": {
    "collapsed": false
   },
   "outputs": [
    {
     "name": "stdout",
     "output_type": "stream",
     "text": [
      "Likelihood->C\n",
      "[[ 1.  0.  0. ...,  0.  0.  0.]\n",
      " [ 0.  0.  0. ...,  0.  0.  0.]\n",
      " [ 0.  1.  0. ...,  0.  0.  0.]\n",
      " ..., \n",
      " [ 0.  0.  0. ...,  0.  0.  0.]\n",
      " [ 0.  0.  0. ...,  0.  0.  1.]\n",
      " [ 0.  0.  0. ...,  0.  0.  0.]]\n",
      "p_matrix->C\n",
      "[[ 0.  0.  0. ...,  0.  0.  0.]\n",
      " [ 1.  0.  0. ...,  0.  0.  0.]\n",
      " [ 0.  0.  0. ...,  0.  0.  0.]\n",
      " ..., \n",
      " [ 0.  0.  0. ...,  0.  0.  0.]\n",
      " [ 0.  0.  0. ...,  0.  0.  0.]\n",
      " [ 0.  0.  0. ...,  0.  0.  1.]]\n",
      "C->D\n",
      "[[ 1.  1.  1. ...,  0.  0.  0.]\n",
      " [ 0.  0.  0. ...,  0.  0.  0.]\n",
      " [ 0.  0.  0. ...,  0.  0.  0.]\n",
      " ..., \n",
      " [ 0.  0.  0. ...,  0.  0.  0.]\n",
      " [ 0.  0.  0. ...,  0.  0.  0.]\n",
      " [ 0.  0.  0. ...,  1.  1.  1.]]\n"
     ]
    }
   ],
   "source": [
    "# Determine the transformation matrices to get the correct pairwise\n",
    "# products computed.\n",
    "\n",
    "transformA = np.zeros((C.dimensions, comb_likelihood.size))\n",
    "transformB = np.zeros((C.dimensions, p_mat.size))\n",
    "\n",
    "for i in range(comb_likelihood.shape[0]):\n",
    "    for j in range(comb_likelihood.shape[1]):\n",
    "        for k in range(p_mat.shape[1]):\n",
    "            tmp = (j + k * comb_likelihood.shape[1] + i * p_mat.size)\n",
    "            transformA[tmp * 2][j + i * comb_likelihood.shape[1]] = 1\n",
    "            transformB[tmp * 2 + 1][k + j * p_mat.shape[1]] = 1\n",
    "            \n",
    "print(\"Likelihood->C\")\n",
    "print(transformA)\n",
    "print(\"p_matrix->C\")\n",
    "print(transformB)\n",
    "\n",
    "\n",
    "def product(x):\n",
    "    return x[0] * x[1]\n",
    "\n",
    "# The mapping for this transformation (C->D) is much easier, since we want to\n",
    "# combine D2 pairs of elements (we sum D2 products together)\n",
    "transformC = np.zeros((D.dimensions, p_mat.size))\n",
    "for i in range(p_mat.size):\n",
    "    transformC[i // p_mat.shape[0]][i] = 1\n",
    "print(\"C->D\")\n",
    "print(transformC)"
   ]
  },
  {
   "cell_type": "code",
   "execution_count": 21,
   "metadata": {
    "collapsed": false
   },
   "outputs": [],
   "source": [
    "with model:\n",
    "    nengo.Connection(lik.output, C.input, transform=transformA)\n",
    "    nengo.Connection(prior.output, C.input, transform=transformB)\n",
    "    \n",
    "    prod = C.add_output(\"product\", product)\n",
    "    nengo.Connection(prod, D.input, transform=transformC)"
   ]
  },
  {
   "cell_type": "code",
   "execution_count": 22,
   "metadata": {
    "collapsed": true
   },
   "outputs": [],
   "source": [
    "with model:\n",
    "    # probes\n",
    "    lik_p = nengo.Probe(lik.output, sample_every=0.01, synapse=0.01)\n",
    "    prior_p = nengo.Probe(prior.output, sample_every=0.01, synapse=0.01)\n",
    "    C_probe = nengo.Probe(C.output, sample_every=0.01, synapse=0.01)\n",
    "    D_probe = nengo.Probe(D.output, sample_every=0.01, synapse=0.01)"
   ]
  },
  {
   "cell_type": "code",
   "execution_count": 23,
   "metadata": {
    "collapsed": false
   },
   "outputs": [
    {
     "name": "stdout",
     "output_type": "stream",
     "text": [
      "\r",
      "Building finished in 0:00:01.                                                   \n"
     ]
    },
    {
     "ename": "BuildError",
     "evalue": "Building <Connection from <Ensemble \"0\"> to <Node \"output\">[0:1]>: 'activities' matrix is all zero for <Ensemble \"0\">. This is because no evaluation points fall in the firing ranges of any neurons.",
     "output_type": "error",
     "traceback": [
      "\u001b[1;31m---------------------------------------------------------------------------\u001b[0m",
      "\u001b[1;31mBuildError\u001b[0m                                Traceback (most recent call last)",
      "\u001b[1;32m<ipython-input-23-1f67e4a76da9>\u001b[0m in \u001b[0;36m<module>\u001b[1;34m()\u001b[0m\n\u001b[1;32m----> 1\u001b[1;33m \u001b[0msim\u001b[0m \u001b[1;33m=\u001b[0m \u001b[0mnengo\u001b[0m\u001b[1;33m.\u001b[0m\u001b[0mSimulator\u001b[0m\u001b[1;33m(\u001b[0m\u001b[0mmodel\u001b[0m\u001b[1;33m)\u001b[0m  \u001b[1;31m# Create the simulator\u001b[0m\u001b[1;33m\u001b[0m\u001b[0m\n\u001b[0m\u001b[0;32m      2\u001b[0m \u001b[0msim\u001b[0m\u001b[1;33m.\u001b[0m\u001b[0mrun\u001b[0m\u001b[1;33m(\u001b[0m\u001b[1;36m1.0\u001b[0m\u001b[1;33m)\u001b[0m\u001b[1;33m\u001b[0m\u001b[0m\n",
      "\u001b[1;32m/home/ctnuser/git/nengo/nengo/simulator.pyc\u001b[0m in \u001b[0;36m__init__\u001b[1;34m(self, network, dt, seed, model, progress_bar)\u001b[0m\n\u001b[0;32m    143\u001b[0m         \u001b[1;32mif\u001b[0m \u001b[0mnetwork\u001b[0m \u001b[1;32mis\u001b[0m \u001b[1;32mnot\u001b[0m \u001b[0mNone\u001b[0m\u001b[1;33m:\u001b[0m\u001b[1;33m\u001b[0m\u001b[0m\n\u001b[0;32m    144\u001b[0m             \u001b[1;31m# Build the network into the model\u001b[0m\u001b[1;33m\u001b[0m\u001b[1;33m\u001b[0m\u001b[0m\n\u001b[1;32m--> 145\u001b[1;33m             \u001b[0mself\u001b[0m\u001b[1;33m.\u001b[0m\u001b[0mmodel\u001b[0m\u001b[1;33m.\u001b[0m\u001b[0mbuild\u001b[0m\u001b[1;33m(\u001b[0m\u001b[0mnetwork\u001b[0m\u001b[1;33m,\u001b[0m \u001b[0mprogress_bar\u001b[0m\u001b[1;33m=\u001b[0m\u001b[0mself\u001b[0m\u001b[1;33m.\u001b[0m\u001b[0mprogress_bar\u001b[0m\u001b[1;33m)\u001b[0m\u001b[1;33m\u001b[0m\u001b[0m\n\u001b[0m\u001b[0;32m    146\u001b[0m \u001b[1;33m\u001b[0m\u001b[0m\n\u001b[0;32m    147\u001b[0m         \u001b[1;31m# -- map from Signal.base -> ndarray\u001b[0m\u001b[1;33m\u001b[0m\u001b[1;33m\u001b[0m\u001b[0m\n",
      "\u001b[1;32m/home/ctnuser/git/nengo/nengo/builder/builder.pyc\u001b[0m in \u001b[0;36mbuild\u001b[1;34m(self, obj, *args, **kwargs)\u001b[0m\n\u001b[0;32m    119\u001b[0m             \u001b[0mThe\u001b[0m \u001b[0mobject\u001b[0m \u001b[0mto\u001b[0m \u001b[0mbuild\u001b[0m \u001b[0minto\u001b[0m \u001b[0mthis\u001b[0m \u001b[0mmodel\u001b[0m\u001b[1;33m.\u001b[0m\u001b[1;33m\u001b[0m\u001b[0m\n\u001b[0;32m    120\u001b[0m         \"\"\"\n\u001b[1;32m--> 121\u001b[1;33m         \u001b[0mbuilt\u001b[0m \u001b[1;33m=\u001b[0m \u001b[0mBuilder\u001b[0m\u001b[1;33m.\u001b[0m\u001b[0mbuild\u001b[0m\u001b[1;33m(\u001b[0m\u001b[0mself\u001b[0m\u001b[1;33m,\u001b[0m \u001b[0mobj\u001b[0m\u001b[1;33m,\u001b[0m \u001b[1;33m*\u001b[0m\u001b[0margs\u001b[0m\u001b[1;33m,\u001b[0m \u001b[1;33m**\u001b[0m\u001b[0mkwargs\u001b[0m\u001b[1;33m)\u001b[0m\u001b[1;33m\u001b[0m\u001b[0m\n\u001b[0m\u001b[0;32m    122\u001b[0m         \u001b[1;32mif\u001b[0m \u001b[0mself\u001b[0m\u001b[1;33m.\u001b[0m\u001b[0mbuild_callback\u001b[0m \u001b[1;32mis\u001b[0m \u001b[1;32mnot\u001b[0m \u001b[0mNone\u001b[0m\u001b[1;33m:\u001b[0m\u001b[1;33m\u001b[0m\u001b[0m\n\u001b[0;32m    123\u001b[0m             \u001b[0mself\u001b[0m\u001b[1;33m.\u001b[0m\u001b[0mbuild_callback\u001b[0m\u001b[1;33m(\u001b[0m\u001b[0mobj\u001b[0m\u001b[1;33m)\u001b[0m\u001b[1;33m\u001b[0m\u001b[0m\n",
      "\u001b[1;32m/home/ctnuser/git/nengo/nengo/builder/builder.pyc\u001b[0m in \u001b[0;36mbuild\u001b[1;34m(cls, model, obj, *args, **kwargs)\u001b[0m\n\u001b[0;32m    214\u001b[0m                 \"Cannot build object of type %r\" % type(obj).__name__)\n\u001b[0;32m    215\u001b[0m \u001b[1;33m\u001b[0m\u001b[0m\n\u001b[1;32m--> 216\u001b[1;33m         \u001b[1;32mreturn\u001b[0m \u001b[0mcls\u001b[0m\u001b[1;33m.\u001b[0m\u001b[0mbuilders\u001b[0m\u001b[1;33m[\u001b[0m\u001b[0mobj_cls\u001b[0m\u001b[1;33m]\u001b[0m\u001b[1;33m(\u001b[0m\u001b[0mmodel\u001b[0m\u001b[1;33m,\u001b[0m \u001b[0mobj\u001b[0m\u001b[1;33m,\u001b[0m \u001b[1;33m*\u001b[0m\u001b[0margs\u001b[0m\u001b[1;33m,\u001b[0m \u001b[1;33m**\u001b[0m\u001b[0mkwargs\u001b[0m\u001b[1;33m)\u001b[0m\u001b[1;33m\u001b[0m\u001b[0m\n\u001b[0m\u001b[0;32m    217\u001b[0m \u001b[1;33m\u001b[0m\u001b[0m\n\u001b[0;32m    218\u001b[0m     \u001b[1;33m@\u001b[0m\u001b[0mclassmethod\u001b[0m\u001b[1;33m\u001b[0m\u001b[0m\n",
      "\u001b[1;32m/home/ctnuser/git/nengo/nengo/builder/network.pyc\u001b[0m in \u001b[0;36mbuild_network\u001b[1;34m(model, network, progress_bar)\u001b[0m\n\u001b[0;32m     95\u001b[0m         \u001b[0mlogger\u001b[0m\u001b[1;33m.\u001b[0m\u001b[0mdebug\u001b[0m\u001b[1;33m(\u001b[0m\u001b[1;34m\"Network step 2: Building subnetworks\"\u001b[0m\u001b[1;33m)\u001b[0m\u001b[1;33m\u001b[0m\u001b[0m\n\u001b[0;32m     96\u001b[0m         \u001b[1;32mfor\u001b[0m \u001b[0msubnetwork\u001b[0m \u001b[1;32min\u001b[0m \u001b[0mnetwork\u001b[0m\u001b[1;33m.\u001b[0m\u001b[0mnetworks\u001b[0m\u001b[1;33m:\u001b[0m\u001b[1;33m\u001b[0m\u001b[0m\n\u001b[1;32m---> 97\u001b[1;33m             \u001b[0mmodel\u001b[0m\u001b[1;33m.\u001b[0m\u001b[0mbuild\u001b[0m\u001b[1;33m(\u001b[0m\u001b[0msubnetwork\u001b[0m\u001b[1;33m)\u001b[0m\u001b[1;33m\u001b[0m\u001b[0m\n\u001b[0m\u001b[0;32m     98\u001b[0m \u001b[1;33m\u001b[0m\u001b[0m\n\u001b[0;32m     99\u001b[0m         \u001b[0mlogger\u001b[0m\u001b[1;33m.\u001b[0m\u001b[0mdebug\u001b[0m\u001b[1;33m(\u001b[0m\u001b[1;34m\"Network step 3: Building connections\"\u001b[0m\u001b[1;33m)\u001b[0m\u001b[1;33m\u001b[0m\u001b[0m\n",
      "\u001b[1;32m/home/ctnuser/git/nengo/nengo/builder/builder.pyc\u001b[0m in \u001b[0;36mbuild\u001b[1;34m(self, obj, *args, **kwargs)\u001b[0m\n\u001b[0;32m    119\u001b[0m             \u001b[0mThe\u001b[0m \u001b[0mobject\u001b[0m \u001b[0mto\u001b[0m \u001b[0mbuild\u001b[0m \u001b[0minto\u001b[0m \u001b[0mthis\u001b[0m \u001b[0mmodel\u001b[0m\u001b[1;33m.\u001b[0m\u001b[1;33m\u001b[0m\u001b[0m\n\u001b[0;32m    120\u001b[0m         \"\"\"\n\u001b[1;32m--> 121\u001b[1;33m         \u001b[0mbuilt\u001b[0m \u001b[1;33m=\u001b[0m \u001b[0mBuilder\u001b[0m\u001b[1;33m.\u001b[0m\u001b[0mbuild\u001b[0m\u001b[1;33m(\u001b[0m\u001b[0mself\u001b[0m\u001b[1;33m,\u001b[0m \u001b[0mobj\u001b[0m\u001b[1;33m,\u001b[0m \u001b[1;33m*\u001b[0m\u001b[0margs\u001b[0m\u001b[1;33m,\u001b[0m \u001b[1;33m**\u001b[0m\u001b[0mkwargs\u001b[0m\u001b[1;33m)\u001b[0m\u001b[1;33m\u001b[0m\u001b[0m\n\u001b[0m\u001b[0;32m    122\u001b[0m         \u001b[1;32mif\u001b[0m \u001b[0mself\u001b[0m\u001b[1;33m.\u001b[0m\u001b[0mbuild_callback\u001b[0m \u001b[1;32mis\u001b[0m \u001b[1;32mnot\u001b[0m \u001b[0mNone\u001b[0m\u001b[1;33m:\u001b[0m\u001b[1;33m\u001b[0m\u001b[0m\n\u001b[0;32m    123\u001b[0m             \u001b[0mself\u001b[0m\u001b[1;33m.\u001b[0m\u001b[0mbuild_callback\u001b[0m\u001b[1;33m(\u001b[0m\u001b[0mobj\u001b[0m\u001b[1;33m)\u001b[0m\u001b[1;33m\u001b[0m\u001b[0m\n",
      "\u001b[1;32m/home/ctnuser/git/nengo/nengo/builder/builder.pyc\u001b[0m in \u001b[0;36mbuild\u001b[1;34m(cls, model, obj, *args, **kwargs)\u001b[0m\n\u001b[0;32m    214\u001b[0m                 \"Cannot build object of type %r\" % type(obj).__name__)\n\u001b[0;32m    215\u001b[0m \u001b[1;33m\u001b[0m\u001b[0m\n\u001b[1;32m--> 216\u001b[1;33m         \u001b[1;32mreturn\u001b[0m \u001b[0mcls\u001b[0m\u001b[1;33m.\u001b[0m\u001b[0mbuilders\u001b[0m\u001b[1;33m[\u001b[0m\u001b[0mobj_cls\u001b[0m\u001b[1;33m]\u001b[0m\u001b[1;33m(\u001b[0m\u001b[0mmodel\u001b[0m\u001b[1;33m,\u001b[0m \u001b[0mobj\u001b[0m\u001b[1;33m,\u001b[0m \u001b[1;33m*\u001b[0m\u001b[0margs\u001b[0m\u001b[1;33m,\u001b[0m \u001b[1;33m**\u001b[0m\u001b[0mkwargs\u001b[0m\u001b[1;33m)\u001b[0m\u001b[1;33m\u001b[0m\u001b[0m\n\u001b[0m\u001b[0;32m    217\u001b[0m \u001b[1;33m\u001b[0m\u001b[0m\n\u001b[0;32m    218\u001b[0m     \u001b[1;33m@\u001b[0m\u001b[0mclassmethod\u001b[0m\u001b[1;33m\u001b[0m\u001b[0m\n",
      "\u001b[1;32m/home/ctnuser/git/nengo/nengo/builder/network.pyc\u001b[0m in \u001b[0;36mbuild_network\u001b[1;34m(model, network, progress_bar)\u001b[0m\n\u001b[0;32m    107\u001b[0m             \u001b[1;31m# TODO: Except perhaps if the connection being learned\u001b[0m\u001b[1;33m\u001b[0m\u001b[1;33m\u001b[0m\u001b[0m\n\u001b[0;32m    108\u001b[0m             \u001b[1;31m# is in a subnetwork?\u001b[0m\u001b[1;33m\u001b[0m\u001b[1;33m\u001b[0m\u001b[0m\n\u001b[1;32m--> 109\u001b[1;33m             \u001b[0mmodel\u001b[0m\u001b[1;33m.\u001b[0m\u001b[0mbuild\u001b[0m\u001b[1;33m(\u001b[0m\u001b[0mconn\u001b[0m\u001b[1;33m)\u001b[0m\u001b[1;33m\u001b[0m\u001b[0m\n\u001b[0m\u001b[0;32m    110\u001b[0m \u001b[1;33m\u001b[0m\u001b[0m\n\u001b[0;32m    111\u001b[0m         \u001b[0mlogger\u001b[0m\u001b[1;33m.\u001b[0m\u001b[0mdebug\u001b[0m\u001b[1;33m(\u001b[0m\u001b[1;34m\"Network step 4: Building probes\"\u001b[0m\u001b[1;33m)\u001b[0m\u001b[1;33m\u001b[0m\u001b[0m\n",
      "\u001b[1;32m/home/ctnuser/git/nengo/nengo/builder/builder.pyc\u001b[0m in \u001b[0;36mbuild\u001b[1;34m(self, obj, *args, **kwargs)\u001b[0m\n\u001b[0;32m    119\u001b[0m             \u001b[0mThe\u001b[0m \u001b[0mobject\u001b[0m \u001b[0mto\u001b[0m \u001b[0mbuild\u001b[0m \u001b[0minto\u001b[0m \u001b[0mthis\u001b[0m \u001b[0mmodel\u001b[0m\u001b[1;33m.\u001b[0m\u001b[1;33m\u001b[0m\u001b[0m\n\u001b[0;32m    120\u001b[0m         \"\"\"\n\u001b[1;32m--> 121\u001b[1;33m         \u001b[0mbuilt\u001b[0m \u001b[1;33m=\u001b[0m \u001b[0mBuilder\u001b[0m\u001b[1;33m.\u001b[0m\u001b[0mbuild\u001b[0m\u001b[1;33m(\u001b[0m\u001b[0mself\u001b[0m\u001b[1;33m,\u001b[0m \u001b[0mobj\u001b[0m\u001b[1;33m,\u001b[0m \u001b[1;33m*\u001b[0m\u001b[0margs\u001b[0m\u001b[1;33m,\u001b[0m \u001b[1;33m**\u001b[0m\u001b[0mkwargs\u001b[0m\u001b[1;33m)\u001b[0m\u001b[1;33m\u001b[0m\u001b[0m\n\u001b[0m\u001b[0;32m    122\u001b[0m         \u001b[1;32mif\u001b[0m \u001b[0mself\u001b[0m\u001b[1;33m.\u001b[0m\u001b[0mbuild_callback\u001b[0m \u001b[1;32mis\u001b[0m \u001b[1;32mnot\u001b[0m \u001b[0mNone\u001b[0m\u001b[1;33m:\u001b[0m\u001b[1;33m\u001b[0m\u001b[0m\n\u001b[0;32m    123\u001b[0m             \u001b[0mself\u001b[0m\u001b[1;33m.\u001b[0m\u001b[0mbuild_callback\u001b[0m\u001b[1;33m(\u001b[0m\u001b[0mobj\u001b[0m\u001b[1;33m)\u001b[0m\u001b[1;33m\u001b[0m\u001b[0m\n",
      "\u001b[1;32m/home/ctnuser/git/nengo/nengo/builder/builder.pyc\u001b[0m in \u001b[0;36mbuild\u001b[1;34m(cls, model, obj, *args, **kwargs)\u001b[0m\n\u001b[0;32m    214\u001b[0m                 \"Cannot build object of type %r\" % type(obj).__name__)\n\u001b[0;32m    215\u001b[0m \u001b[1;33m\u001b[0m\u001b[0m\n\u001b[1;32m--> 216\u001b[1;33m         \u001b[1;32mreturn\u001b[0m \u001b[0mcls\u001b[0m\u001b[1;33m.\u001b[0m\u001b[0mbuilders\u001b[0m\u001b[1;33m[\u001b[0m\u001b[0mobj_cls\u001b[0m\u001b[1;33m]\u001b[0m\u001b[1;33m(\u001b[0m\u001b[0mmodel\u001b[0m\u001b[1;33m,\u001b[0m \u001b[0mobj\u001b[0m\u001b[1;33m,\u001b[0m \u001b[1;33m*\u001b[0m\u001b[0margs\u001b[0m\u001b[1;33m,\u001b[0m \u001b[1;33m**\u001b[0m\u001b[0mkwargs\u001b[0m\u001b[1;33m)\u001b[0m\u001b[1;33m\u001b[0m\u001b[0m\n\u001b[0m\u001b[0;32m    217\u001b[0m \u001b[1;33m\u001b[0m\u001b[0m\n\u001b[0;32m    218\u001b[0m     \u001b[1;33m@\u001b[0m\u001b[0mclassmethod\u001b[0m\u001b[1;33m\u001b[0m\u001b[0m\n",
      "\u001b[1;32m/home/ctnuser/git/nengo/nengo/builder/connection.pyc\u001b[0m in \u001b[0;36mbuild_connection\u001b[1;34m(model, conn)\u001b[0m\n\u001b[0;32m    244\u001b[0m     \u001b[1;32melif\u001b[0m \u001b[0misinstance\u001b[0m\u001b[1;33m(\u001b[0m\u001b[0mconn\u001b[0m\u001b[1;33m.\u001b[0m\u001b[0mpre_obj\u001b[0m\u001b[1;33m,\u001b[0m \u001b[0mEnsemble\u001b[0m\u001b[1;33m)\u001b[0m\u001b[1;33m:\u001b[0m  \u001b[1;31m# Normal decoded connection\u001b[0m\u001b[1;33m\u001b[0m\u001b[0m\n\u001b[0;32m    245\u001b[0m         eval_points, weights, solver_info = build_decoders(\n\u001b[1;32m--> 246\u001b[1;33m             model, conn, rng, transform)\n\u001b[0m\u001b[0;32m    247\u001b[0m         \u001b[1;32mif\u001b[0m \u001b[0mconn\u001b[0m\u001b[1;33m.\u001b[0m\u001b[0msolver\u001b[0m\u001b[1;33m.\u001b[0m\u001b[0mweights\u001b[0m\u001b[1;33m:\u001b[0m\u001b[1;33m\u001b[0m\u001b[0m\n\u001b[0;32m    248\u001b[0m             \u001b[0mmodel\u001b[0m\u001b[1;33m.\u001b[0m\u001b[0msig\u001b[0m\u001b[1;33m[\u001b[0m\u001b[0mconn\u001b[0m\u001b[1;33m]\u001b[0m\u001b[1;33m[\u001b[0m\u001b[1;34m'out'\u001b[0m\u001b[1;33m]\u001b[0m \u001b[1;33m=\u001b[0m \u001b[0mmodel\u001b[0m\u001b[1;33m.\u001b[0m\u001b[0msig\u001b[0m\u001b[1;33m[\u001b[0m\u001b[0mconn\u001b[0m\u001b[1;33m.\u001b[0m\u001b[0mpost_obj\u001b[0m\u001b[1;33m.\u001b[0m\u001b[0mneurons\u001b[0m\u001b[1;33m]\u001b[0m\u001b[1;33m[\u001b[0m\u001b[1;34m'in'\u001b[0m\u001b[1;33m]\u001b[0m\u001b[1;33m\u001b[0m\u001b[0m\n",
      "\u001b[1;32m/home/ctnuser/git/nengo/nengo/builder/connection.pyc\u001b[0m in \u001b[0;36mbuild_decoders\u001b[1;34m(model, conn, rng, transform)\u001b[0m\n\u001b[0;32m    121\u001b[0m             \u001b[1;34m\"Building %s: 'activities' matrix is all zero for %s. \"\u001b[0m\u001b[1;33m\u001b[0m\u001b[0m\n\u001b[0;32m    122\u001b[0m             \u001b[1;34m\"This is because no evaluation points fall in the firing \"\u001b[0m\u001b[1;33m\u001b[0m\u001b[0m\n\u001b[1;32m--> 123\u001b[1;33m             \"ranges of any neurons.\" % (conn, conn.pre_obj))\n\u001b[0m\u001b[0;32m    124\u001b[0m \u001b[1;33m\u001b[0m\u001b[0m\n\u001b[0;32m    125\u001b[0m     weights = (decoders.T if conn.solver.weights else\n",
      "\u001b[1;31mBuildError\u001b[0m: Building <Connection from <Ensemble \"0\"> to <Node \"output\">[0:1]>: 'activities' matrix is all zero for <Ensemble \"0\">. This is because no evaluation points fall in the firing ranges of any neurons."
     ]
    }
   ],
   "source": [
    "sim = nengo.Simulator(model)  # Create the simulator\n",
    "sim.run(1.0)"
   ]
  },
  {
   "cell_type": "code",
   "execution_count": null,
   "metadata": {
    "collapsed": true
   },
   "outputs": [],
   "source": [
    "plt.subplot(1, 2, 1)\n",
    "plt.title('A')\n",
    "plt.plot(sim.trange(dt=0.01), sim.data[lik_p])\n",
    "plt.subplot(1, 2, 2)\n",
    "plt.title('B')\n",
    "plt.plot(sim.trange(dt=0.01), sim.data[prior_p]);\n",
    "\n",
    "plt.figure()\n",
    "plt.plot(sim.trange(dt=0.01), sim.data[D_probe])\n",
    "for d in np.dot(likelihood, p_matrix).flatten():\n",
    "    plt.axhline(d, color='k')\n",
    "plt.title(\"D\");"
   ]
  },
  {
   "cell_type": "code",
   "execution_count": 21,
   "metadata": {
    "collapsed": false
   },
   "outputs": [
    {
     "name": "stdout",
     "output_type": "stream",
     "text": [
      "(1, 2)\n",
      "2\n"
     ]
    }
   ],
   "source": [
    "Amat = np.asarray([[0.5, -0.5]])\n",
    "print Amat.shape\n",
    "print Amat.size"
   ]
  },
  {
   "cell_type": "code",
   "execution_count": null,
   "metadata": {
    "collapsed": true
   },
   "outputs": [],
   "source": []
  }
 ],
 "metadata": {
  "kernelspec": {
   "display_name": "Python 2",
   "language": "python",
   "name": "python2"
  },
  "language_info": {
   "codemirror_mode": {
    "name": "ipython",
    "version": 2
   },
   "file_extension": ".py",
   "mimetype": "text/x-python",
   "name": "python",
   "nbconvert_exporter": "python",
   "pygments_lexer": "ipython2",
   "version": "2.7.9"
  }
 },
 "nbformat": 4,
 "nbformat_minor": 0
}
