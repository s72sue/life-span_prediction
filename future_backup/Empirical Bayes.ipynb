{
 "cells": [
  {
   "cell_type": "markdown",
   "metadata": {},
   "source": [
    "Note: in this notebook theta is t_total (life-span to be estimated) and x_vector corresponds to observed 't' values (current age values)"
   ]
  },
  {
   "cell_type": "code",
   "execution_count": 2,
   "metadata": {
    "collapsed": true
   },
   "outputs": [],
   "source": [
    "# setup the environment\n",
    "import nengo\n",
    "import numpy as np\n",
    "import scipy.special as sp\n",
    "import matplotlib.pyplot as plt\n",
    "import scipy.stats as st\n",
    "% matplotlib inline"
   ]
  },
  {
   "cell_type": "markdown",
   "metadata": {},
   "source": [
    "### Parametric empirical bayes\n",
    "\n",
    "\n",
    "$$p(x/\\alpha) = \\int_{\\theta}  p(x/\\theta)p(\\theta/\\alpha) d\\theta$$\n",
    "\n",
    "Find $$\\hat{\\alpha}$$  and $$p(\\theta/\\hat{\\alpha})$$\n",
    "\n",
    "Then find the posterior:\n",
    "$$p(\\theta/x) = p(x/\\theta) p(\\theta/\\hat{\\alpha})$$\n",
    "\n",
    " "
   ]
  },
  {
   "cell_type": "code",
   "execution_count": 3,
   "metadata": {
    "collapsed": false
   },
   "outputs": [],
   "source": [
    "# Function to sample random values from a skewed gaussian distribution\n",
    "def randn_skew(N, alpha=0.0, loc=0.0, scale=1.0):\n",
    "    sigma = alpha / np.sqrt(1.0 + alpha**2) \n",
    "    u0 = np.random.randn(N)\n",
    "    v = np.random.randn(N)\n",
    "    u1 = (sigma*u0 + np.sqrt(1.0 - sigma**2)*v) * scale\n",
    "    u1[u0 < 0] *= -1\n",
    "    u1 = u1 + loc\n",
    "    return u1\n",
    "    \n",
    "#print randn_skew_fast(100, alpha=-4, loc=97, scale=28)"
   ]
  },
  {
   "cell_type": "code",
   "execution_count": 4,
   "metadata": {
    "collapsed": false
   },
   "outputs": [
    {
     "name": "stdout",
     "output_type": "stream",
     "text": [
      "alpha_hat:  100\n"
     ]
    },
    {
     "data": {
      "image/png": "[encoded data removed]",
      "text/plain": [
       "<matplotlib.figure.Figure at 0x1039d6490>"
      ]
     },
     "metadata": {},
     "output_type": "display_data"
    }
   ],
   "source": [
    "# assuming that maximum possible age is 120 yrs\n",
    "max_age = 120\n",
    "\n",
    "\n",
    "# observed values of current ages (i.e., t value)\n",
    "# Here I am assuming that these are current ages of multiple people\n",
    "# The goal is to estimate a prior distribution based on these ages\n",
    "#x_vector = [5, 25, 32, 45, 55, 65, 75, 80, 90, 100, 107]\n",
    "x_vector = [5, 32, 55, 75, 90, 107]    \n",
    "\n",
    "'''\n",
    "# Add more data to get a better estimate    \n",
    "obs = randn_skew(100, alpha=-4, loc=97, scale=28)\n",
    "for i in obs:\n",
    "    x_vector.append(i)\n",
    "'''\n",
    "\n",
    "# all possible values of t_total (from 1 to 120)\n",
    "thetas = np.linspace(start=1, stop=max_age, num=max_age)   # all possible values of theta (from 1 to 120)\n",
    "\n",
    "# likelihood function given the set of observations x1, x2, x3, x4, x5\n",
    "# Since these are iid observations, likelihood is just the product of all\n",
    "def cal_likelihood(x):\n",
    "    like = np.asarray([1/p for p in thetas])   #  p(X/theta)\n",
    "    like[0:x-1] = [0]*np.asarray(x-1)          # likelihood is 1/theta for theta >= x and 0 otherwise\n",
    "    return like\n",
    "\n",
    "likelihood = np.ones(max_age)\n",
    "for i in x_vector:\n",
    "    likelihood = np.multiply(likelihood, cal_likelihood(i))    \n",
    "     \n",
    "\n",
    "# declare a matrix which will store p_theta along columns for each given alpha\n",
    "# theta varies along rows, and alpha varies along columns\n",
    "p_matrix = np.zeros((len(thetas), max_age))\n",
    "for x in np.arange(1,max_age+1,1):\n",
    "    p_theta = [(st.skewnorm.pdf(p, a=-4, loc=x, scale=28)) for p in thetas]\n",
    "    p_theta = p_theta/np.sum(p_theta)    # normalize prior (to sum up to 1)\n",
    "    p_matrix[:, x-1] = p_theta\n",
    "    \n",
    "\n",
    "# Now compute p(X/alpha) by marginalizing out theta for each alpha\n",
    "marginpost_set = np.dot(likelihood, p_matrix.T)   # this will be a list of dimentions (1 x max_age)\n",
    "#pick the max value and find the corresponding alpha\n",
    "alpha_hat = np.argmax(marginpost_set) + 1\n",
    "\n",
    "print \"alpha_hat: \", alpha_hat\n",
    "\n",
    "# p(theta/alpha_hat): Note that I am considering loc parameter to be alpha (unknown)\n",
    "# Assuming that a and scale parameters are known\n",
    "p_theta_ga = [(st.skewnorm.pdf(p, a=-4, loc=alpha_hat, scale=28)) for p in thetas]\n",
    "p_x = np.sum(np.multiply(p_theta_ga, likelihood)) \n",
    "posterior = np.multiply(p_theta_ga, likelihood) / p_x\n",
    "\n",
    "def median(posterior):\n",
    "    median = 0\n",
    "    for a in np.arange(len(posterior)):\n",
    "        cum = sum(posterior[:a+1])\n",
    "        if cum == 0.5 or cum > 0.5:\n",
    "            median = a + 1\n",
    "            break\n",
    "    return median\n",
    "\n",
    "predictions = []\n",
    "for x in np.arange(1,100,1):\n",
    "    like = [1/p for p in thetas]  #  p(X/theta)\n",
    "    like[0:x-1] = [0]*(x-1)  # likelihood is 1/theta for theta >= x and 0 otherwise\n",
    "    p_x = np.sum(np.multiply(p_theta_ga, like))       # already sums to 1\n",
    "    posterior = np.multiply(p_theta_ga, like) / p_x   # already sums to 1\n",
    "    prediction = median(posterior)\n",
    "    predictions.append(prediction)\n",
    "    \n",
    "plt.figure()\n",
    "plt.plot(np.arange(1,100,1), predictions)\n",
    "plt.xlabel(\"t values\", fontsize=25)\n",
    "plt.ylabel(\"Predicted $t_{total}$\", fontsize=25)\n",
    "plt.show()"
   ]
  },
  {
   "cell_type": "markdown",
   "metadata": {},
   "source": [
    "### Iterative loop method as described in HBB book\n",
    "\n",
    "Find posterior assuming a flat prior in the beginning:\n",
    "$$p(\\theta/x) = p(x/\\theta) p(\\theta)$$\n",
    "\n",
    "$$p(\\alpha/x) = \\int_{\\theta}  p(\\alpha/\\theta) p(\\theta/x) d\\theta$$\n",
    "\n",
    "Find $$\\hat{\\alpha}$$  and $$p(\\theta/\\hat{\\alpha})$$\n",
    "\n",
    "Then find the posterior:\n",
    "$$p(\\theta/x) = p(x/\\theta) p(\\theta/\\hat{\\alpha})$$\n",
    "\n",
    "Then repeat the above steps until convergence."
   ]
  },
  {
   "cell_type": "code",
   "execution_count": 24,
   "metadata": {
    "collapsed": false
   },
   "outputs": [
    {
     "name": "stdout",
     "output_type": "stream",
     "text": [
      "alpha_hat:  100\n",
      "alpha_hat:  97\n",
      "alpha_hat:  97\n",
      "alpha_hat:  97\n",
      "alpha_hat:  97\n",
      "alpha_hat:  97\n",
      "alpha_hat:  97\n",
      "alpha_hat:  97\n",
      "alpha_hat:  97\n",
      "alpha_hat:  97\n",
      "alpha_hat:  97\n"
     ]
    }
   ],
   "source": [
    "# Empirical Bayes with BG looping \n",
    "\n",
    "# assuming that maximum possible age is 120 yrs\n",
    "max_age = 120\n",
    "\n",
    "\n",
    "# observed values of current ages (i.e., t value)\n",
    "# Here I am assuming that these are current ages of multiple people\n",
    "# The goal is to estimate a prior distribution based on these ages\n",
    "#x_vector = [5, 25, 32, 45, 55, 65, 75, 80, 90, 100, 107]\n",
    "x_vector = [5, 32, 55, 75, 90, 107]\n",
    "\n",
    "\n",
    "'''\n",
    "# Add more data to get a better estimate  \n",
    "obs = randn_skew(100, alpha=-4, loc=97, scale=28)\n",
    "for i in obs:\n",
    "    x_vector.append(i)  \n",
    "'''    \n",
    "    \n",
    "# all possible values of t_total (from 1 to 120)\n",
    "thetas = np.linspace(start=1, stop=max_age, num=max_age)   # all possible values of theta (from 1 to 120)\n",
    "\n",
    "# likelihood function given the set of observations x1, x2, x3, x4, x5\n",
    "# Since these are iid observations, likelihood is just the product of all\n",
    "def cal_likelihood(x):\n",
    "    like = np.asarray([1/p for p in thetas])   #  p(X/theta)\n",
    "    like[0:x-1] = [0]*np.asarray(x-1)          # likelihood is 1/theta for theta >= x and 0 otherwise\n",
    "    return like\n",
    "\n",
    "likelihood = np.ones(max_age)\n",
    "for i in x_vector:\n",
    "    likelihood = np.multiply(likelihood, cal_likelihood(i))   \n",
    "    \n",
    "    \n",
    "p_theta = np.ones(len(thetas))     # p(theta) - a uniform prior\n",
    "p_theta = p_theta/np.sum(p_theta)  # normalize \n",
    "\n",
    "\n",
    "# declare a matrix which will store p_theta along columns for each given alpha\n",
    "# theta varies along rows, and alpha varies along columns\n",
    "# Here I have assumed that p(alpha/theta) is proportional to p(theta/alpha)\n",
    "p_matrix = np.zeros((len(thetas), max_age))\n",
    "for x in np.arange(1,max_age+1,1):\n",
    "    p_theta = [(st.skewnorm.pdf(p, a=-4, loc=x, scale=28)) for p in thetas]\n",
    "    p_theta = p_theta/np.sum(p_theta)    # normalize prior (to sum up to 1)\n",
    "    p_matrix[:, x-1] = p_theta\n",
    "    \n",
    "\n",
    "# compute the posterior with uniform prior\n",
    "#p_x = np.sum(np.multiply(p_theta, likelihood)) \n",
    "p_thx = np.multiply(likelihood, p_theta)  #/ p_x\n",
    "\n",
    "p_ax = np.dot(p_matrix, p_thx)   # this will be a list of dimentions (1 x max_age)\n",
    "#pick the max value and find the corresponding alpha\n",
    "alpha_hat = np.argmax(p_ax) + 1\n",
    "\n",
    "print \"alpha_hat: \", alpha_hat    \n",
    "\n",
    "\n",
    "# bg loop structure\n",
    "for i in range(10):\n",
    "    # p(theta/alpha_hat): Note that I am considering loc parameter to be alpha (unknown)\n",
    "    # Assuming that a and scale parameters are known\n",
    "    p_theta_ga = [(st.skewnorm.pdf(p, a=-4, loc=alpha_hat, scale=28)) for p in thetas]\n",
    "    \n",
    "    # compute the posterior\n",
    "    #p_x = np.sum(np.multiply(p_theta_ga, likelihood)) \n",
    "    p_thx = np.multiply(likelihood, p_theta_ga)  #/ p_x\n",
    "\n",
    "    p_ax = np.dot(p_matrix, p_thx)   # this will be a list of dimentions (1 x max_age)\n",
    "    #pick the max value and find the corresponding alpha\n",
    "    alpha_hat = np.argmax(p_ax) + 1\n",
    "    print \"alpha_hat: \", alpha_hat    \n"
   ]
  },
  {
   "cell_type": "code",
   "execution_count": 25,
   "metadata": {
    "collapsed": false
   },
   "outputs": [
    {
     "data": {
      "image/png": "[encoded data removed]",
      "text/plain": [
       "<matplotlib.figure.Figure at 0x1073a4350>"
      ]
     },
     "metadata": {},
     "output_type": "display_data"
    }
   ],
   "source": [
    "def median(posterior):\n",
    "    median = 0\n",
    "    for a in np.arange(len(posterior)):\n",
    "        cum = sum(posterior[:a+1])\n",
    "        if cum == 0.5 or cum > 0.5:\n",
    "            median = a + 1\n",
    "            break\n",
    "    return median\n",
    "\n",
    "predictions = []\n",
    "for x in np.arange(1,100,1):\n",
    "    like = [1/p for p in thetas]  #  p(X/theta)\n",
    "    like[0:x-1] = [0]*(x-1)  # likelihood is 1/theta for theta >= x and 0 otherwise\n",
    "    p_x = np.sum(np.multiply(p_theta_ga, like))       # already sums to 1\n",
    "    posterior = np.multiply(p_theta_ga, like) / p_x   # already sums to 1\n",
    "    prediction = median(posterior)\n",
    "    predictions.append(prediction)\n",
    "    \n",
    "plt.figure()\n",
    "plt.plot(np.arange(1,100,1), predictions)\n",
    "plt.xlabel(\"t values\", fontsize=25)\n",
    "plt.ylabel(\"Predicted $t_{total}$\", fontsize=25)\n",
    "plt.show()"
   ]
  },
  {
   "cell_type": "markdown",
   "metadata": {},
   "source": [
    "I have shown that the standard empirical bayes doesn't do very well because the number of observed data points is very small.\n",
    "However, the interative loop method performs well even with the small number of observed data points. "
   ]
  }
 ],
 "metadata": {
  "kernelspec": {
   "display_name": "Python 2",
   "language": "python",
   "name": "python2"
  },
  "language_info": {
   "codemirror_mode": {
    "name": "ipython",
    "version": 2
   },
   "file_extension": ".py",
   "mimetype": "text/x-python",
   "name": "python",
   "nbconvert_exporter": "python",
   "pygments_lexer": "ipython2",
   "version": "2.7.10"
  }
 },
 "nbformat": 4,
 "nbformat_minor": 0
}
